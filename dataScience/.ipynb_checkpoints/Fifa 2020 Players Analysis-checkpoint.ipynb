{
 "cells": [
  {
   "cell_type": "code",
   "execution_count": 1,
   "metadata": {
    "scrolled": true
   },
   "outputs": [],
   "source": [
    "import pandas\n",
    "\n",
    "data = pandas.read_csv('players_20.csv')"
   ]
  },
  {
   "cell_type": "code",
   "execution_count": 2,
   "metadata": {},
   "outputs": [],
   "source": [
    "# data.shape # Get the shape of the data (rows, columns)"
   ]
  },
  {
   "cell_type": "code",
   "execution_count": 3,
   "metadata": {
    "scrolled": false
   },
   "outputs": [],
   "source": [
    "# data.describe() # Get the common values (count, mean, std, min, ...)"
   ]
  },
  {
   "cell_type": "code",
   "execution_count": 4,
   "metadata": {},
   "outputs": [],
   "source": [
    "# data.values"
   ]
  },
  {
   "cell_type": "code",
   "execution_count": 5,
   "metadata": {
    "scrolled": true
   },
   "outputs": [],
   "source": [
    "# Filter data by age (get underage)\n",
    "data_under_age = data[data['age'] < 18]"
   ]
  },
  {
   "cell_type": "code",
   "execution_count": 9,
   "metadata": {},
   "outputs": [
    {
     "data": {
      "text/html": [
       "<div>\n",
       "<style scoped>\n",
       "    .dataframe tbody tr th:only-of-type {\n",
       "        vertical-align: middle;\n",
       "    }\n",
       "\n",
       "    .dataframe tbody tr th {\n",
       "        vertical-align: top;\n",
       "    }\n",
       "\n",
       "    .dataframe thead th {\n",
       "        text-align: right;\n",
       "    }\n",
       "</style>\n",
       "<table border=\"1\" class=\"dataframe\">\n",
       "  <thead>\n",
       "    <tr style=\"text-align: right;\">\n",
       "      <th></th>\n",
       "      <th>short_name</th>\n",
       "      <th>age</th>\n",
       "      <th>wage_eur</th>\n",
       "      <th>value_eur</th>\n",
       "      <th>difference</th>\n",
       "    </tr>\n",
       "  </thead>\n",
       "  <tbody>\n",
       "    <tr>\n",
       "      <th>2</th>\n",
       "      <td>Neymar Jr</td>\n",
       "      <td>27</td>\n",
       "      <td>290000</td>\n",
       "      <td>105500000</td>\n",
       "      <td>105210000</td>\n",
       "    </tr>\n",
       "    <tr>\n",
       "      <th>0</th>\n",
       "      <td>L. Messi</td>\n",
       "      <td>32</td>\n",
       "      <td>565000</td>\n",
       "      <td>95500000</td>\n",
       "      <td>94935000</td>\n",
       "    </tr>\n",
       "    <tr>\n",
       "      <th>10</th>\n",
       "      <td>K. Mbappé</td>\n",
       "      <td>20</td>\n",
       "      <td>155000</td>\n",
       "      <td>93500000</td>\n",
       "      <td>93345000</td>\n",
       "    </tr>\n",
       "    <tr>\n",
       "      <th>5</th>\n",
       "      <td>K. De Bruyne</td>\n",
       "      <td>28</td>\n",
       "      <td>370000</td>\n",
       "      <td>90000000</td>\n",
       "      <td>89630000</td>\n",
       "    </tr>\n",
       "    <tr>\n",
       "      <th>4</th>\n",
       "      <td>E. Hazard</td>\n",
       "      <td>28</td>\n",
       "      <td>470000</td>\n",
       "      <td>90000000</td>\n",
       "      <td>89530000</td>\n",
       "    </tr>\n",
       "    <tr>\n",
       "      <th>...</th>\n",
       "      <td>...</td>\n",
       "      <td>...</td>\n",
       "      <td>...</td>\n",
       "      <td>...</td>\n",
       "      <td>...</td>\n",
       "    </tr>\n",
       "    <tr>\n",
       "      <th>8359</th>\n",
       "      <td>F. Cubero</td>\n",
       "      <td>40</td>\n",
       "      <td>3000</td>\n",
       "      <td>0</td>\n",
       "      <td>-3000</td>\n",
       "    </tr>\n",
       "    <tr>\n",
       "      <th>7230</th>\n",
       "      <td>Lee Dong Gook</td>\n",
       "      <td>40</td>\n",
       "      <td>4000</td>\n",
       "      <td>0</td>\n",
       "      <td>-4000</td>\n",
       "    </tr>\n",
       "    <tr>\n",
       "      <th>13003</th>\n",
       "      <td>H. Sulaimani</td>\n",
       "      <td>42</td>\n",
       "      <td>5000</td>\n",
       "      <td>0</td>\n",
       "      <td>-5000</td>\n",
       "    </tr>\n",
       "    <tr>\n",
       "      <th>1880</th>\n",
       "      <td>C. Pizarro</td>\n",
       "      <td>40</td>\n",
       "      <td>20000</td>\n",
       "      <td>0</td>\n",
       "      <td>-20000</td>\n",
       "    </tr>\n",
       "    <tr>\n",
       "      <th>868</th>\n",
       "      <td>Hilton</td>\n",
       "      <td>41</td>\n",
       "      <td>21000</td>\n",
       "      <td>0</td>\n",
       "      <td>-21000</td>\n",
       "    </tr>\n",
       "  </tbody>\n",
       "</table>\n",
       "<p>18278 rows × 5 columns</p>\n",
       "</div>"
      ],
      "text/plain": [
       "          short_name  age  wage_eur  value_eur  difference\n",
       "2          Neymar Jr   27    290000  105500000   105210000\n",
       "0           L. Messi   32    565000   95500000    94935000\n",
       "10         K. Mbappé   20    155000   93500000    93345000\n",
       "5       K. De Bruyne   28    370000   90000000    89630000\n",
       "4          E. Hazard   28    470000   90000000    89530000\n",
       "...              ...  ...       ...        ...         ...\n",
       "8359       F. Cubero   40      3000          0       -3000\n",
       "7230   Lee Dong Gook   40      4000          0       -4000\n",
       "13003   H. Sulaimani   42      5000          0       -5000\n",
       "1880      C. Pizarro   40     20000          0      -20000\n",
       "868           Hilton   41     21000          0      -21000\n",
       "\n",
       "[18278 rows x 5 columns]"
      ]
     },
     "execution_count": 9,
     "metadata": {},
     "output_type": "execute_result"
    }
   ],
   "source": [
    "# Get best player\n",
    "data_filter = pandas.DataFrame(data, columns=['short_name', 'age', 'wage_eur', 'value_eur'])\n",
    "\n",
    "def value_to_float(value):\n",
    "    if type(value) == float or type(value) == int:\n",
    "        return value\n",
    "    elif 'K' in value:\n",
    "        return float(value.replace('K', '')) * 1000\n",
    "    elif 'M' in value:\n",
    "        return float(value.replace('M', '')) * 1000000\n",
    "    elif 'B' in value:\n",
    "        return float(value.replace('B', '')) * 1000000000\n",
    "    return 0\n",
    "\n",
    "wage = data_filter['wage_eur'].replace('[\\€,]', '', regex=True).apply(value_to_float)\n",
    "value = data_filter['value_eur'].replace('[\\€,]', '', regex=True).apply(value_to_float)\n",
    "\n",
    "data_filter['difference'] = value - wage\n",
    "data_filter.sort_values('difference', ascending=False)"
   ]
  },
  {
   "cell_type": "code",
   "execution_count": 12,
   "metadata": {},
   "outputs": [
    {
     "name": "stdout",
     "output_type": "stream",
     "text": [
      "AxesSubplot(0.125,0.125;0.775x0.755)\n"
     ]
    },
    {
     "data": {
      "image/png": "[encoded data removed]",
      "text/plain": [
       "<Figure size 432x288 with 1 Axes>"
      ]
     },
     "metadata": {},
     "output_type": "display_data"
    }
   ],
   "source": [
    "# Visualize the data with seaborn.\n",
    "import seaborn\n",
    "seaborn.set()\n",
    "\n",
    "graph = seaborn.scatterplot(x='wage_eur', y='value_eur', data=data_filter)\n",
    "print(graph)"
   ]
  },
  {
   "cell_type": "code",
   "execution_count": 31,
   "metadata": {},
   "outputs": [],
   "source": [
    "# Visualize the data with bokeh (interactive).\n",
    "from bokeh.plotting import figure, show\n",
    "from bokeh.models import HoverTool\n",
    "\n",
    "hover = HoverTool(tooltips=[\n",
    "    ('index', '$index'),\n",
    "    ('(Wage, Value)', '(@wage_eur, @value_eur)'),\n",
    "    ('Name', '@short_name'),\n",
    "])\n",
    "\n",
    "plot = figure(title='Fifa 2020 PLayers', x_axis_label='Wage, €', y_axis_label='Value, €', plot_width=700, plot_height=700, tools=[hover])\n",
    "plot.circle('wage_eur', 'value_eur', size=10, source=data_filter)\n",
    "show(plot)"
   ]
  },
  {
   "cell_type": "code",
   "execution_count": null,
   "metadata": {},
   "outputs": [],
   "source": []
  },
  {
   "cell_type": "code",
   "execution_count": null,
   "metadata": {},
   "outputs": [],
   "source": []
  },
  {
   "cell_type": "code",
   "execution_count": null,
   "metadata": {},
   "outputs": [],
   "source": []
  },
  {
   "cell_type": "code",
   "execution_count": null,
   "metadata": {},
   "outputs": [],
   "source": []
  },
  {
   "cell_type": "code",
   "execution_count": null,
   "metadata": {},
   "outputs": [],
   "source": []
  },
  {
   "cell_type": "code",
   "execution_count": null,
   "metadata": {},
   "outputs": [],
   "source": []
  },
  {
   "cell_type": "code",
   "execution_count": null,
   "metadata": {},
   "outputs": [],
   "source": []
  }
 ],
 "metadata": {
  "kernelspec": {
   "display_name": "Python 3",
   "language": "python",
   "name": "python3"
  },
  "language_info": {
   "codemirror_mode": {
    "name": "ipython",
    "version": 3
   },
   "file_extension": ".py",
   "mimetype": "text/x-python",
   "name": "python",
   "nbconvert_exporter": "python",
   "pygments_lexer": "ipython3",
   "version": "3.7.6"
  }
 },
 "nbformat": 4,
 "nbformat_minor": 4
}
